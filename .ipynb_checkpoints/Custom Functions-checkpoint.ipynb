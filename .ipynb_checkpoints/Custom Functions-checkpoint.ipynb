{
 "cells": [
  {
   "cell_type": "code",
   "execution_count": 1,
   "metadata": {},
   "outputs": [],
   "source": [
    "# Here I will import the API from https://github.com/cwendt94/espn-api\n",
    "from espn_api.football import League\n",
    "\n",
    "league = League(league_id=25088590, year=2021, espn_s2='AEB%2F3xkFFHWUdCoDkI%2BP52fOw7mzztiHmtcrfiew4PkwgVlliih%2FPrq4usD6pt%2BaOQhWYajpm5VI1008hcmPQhEnhmOihc9b5O%2FgvFxCFM2qi16pLcUKEM0ghp65TW8hb4rgQ6GIXtrip5vp26o49%2BCi%2Bc1kBeJ6FPgZ0uawJeRHl18cjYTGEtLfjcefYRLvzXXBeDzkn%2Fg%2BTmpXFFibi%2BBTTcq1%2BjWvOwnjcPGN9z8Ze9ALjqmOpFanHmh1unSrxDY7OYleUpbKCVhn02QzTgnKLmP4Ea2SBu7a9VkIR63K8g%3D%3D', swid='{F5FCF83D-8E47-4FD1-BCF8-3D8E47DFD1B1}')"
   ]
  },
  {
   "cell_type": "code",
   "execution_count": 10,
   "metadata": {},
   "outputs": [
    {
     "data": {
      "text/plain": [
       "Team(TMEC 😎)"
      ]
     },
     "execution_count": 10,
     "metadata": {},
     "output_type": "execute_result"
    }
   ],
   "source": [
    "#Create a function that will return the users highest scoring player over the season\n",
    "\n",
    "box_scores = league.box_scores(3)\n",
    "box_scores[3].away_team\n"
   ]
  },
  {
   "cell_type": "code",
   "execution_count": 12,
   "metadata": {},
   "outputs": [
    {
     "data": {
      "text/plain": [
       "[Player(Christian McCaffrey, points:6, projected:25),\n",
       " Player(Austin Ekeler, points:22, projected:17),\n",
       " Player(George Kittle, points:17, projected:13),\n",
       " Player(Allen Robinson II, points:4, projected:14),\n",
       " Player(Cooper Kupp, points:30, projected:18),\n",
       " Player(D'Andre Swift, points:23, projected:14),\n",
       " Player(Myles Gaskin, points:10, projected:11),\n",
       " Player(Russell Wilson, points:16, projected:21),\n",
       " Player(Tyler Boyd, points:13, projected:13),\n",
       " Player(Steelers D/ST, points:4, projected:7),\n",
       " Player(Younghoe Koo, points:6, projected:7),\n",
       " Player(Ty'Son Williams, points:2, projected:12),\n",
       " Player(Sterling Shepard, points:3, projected:13),\n",
       " Player(Jamaal Williams, points:14, projected:9),\n",
       " Player(Rondale Moore, points:2, projected:12),\n",
       " Player(Alexander Mattison, points:23, projected:16)]"
      ]
     },
     "execution_count": 12,
     "metadata": {},
     "output_type": "execute_result"
    }
   ],
   "source": [
    "box_scores[3].away_lineup"
   ]
  },
  {
   "cell_type": "code",
   "execution_count": 17,
   "metadata": {},
   "outputs": [
    {
     "name": "stdout",
     "output_type": "stream",
     "text": [
      "Player(Christian McCaffrey, points:6, projected:25)\n",
      "Player(Allen Robinson II, points:4, projected:14)\n",
      "Player(Steelers D/ST, points:4, projected:7)\n",
      "Player(Younghoe Koo, points:6, projected:7)\n",
      "Player(Ty'Son Williams, points:2, projected:12)\n",
      "Player(Sterling Shepard, points:3, projected:13)\n",
      "Player(Rondale Moore, points:2, projected:12)\n"
     ]
    }
   ],
   "source": [
    "last_game = box_scores[3].away_lineup\n",
    "\n",
    "for player in last_game:\n",
    "    if player.points < 10:\n",
    "        print(player)"
   ]
  },
  {
   "cell_type": "code",
   "execution_count": 19,
   "metadata": {},
   "outputs": [
    {
     "name": "stdout",
     "output_type": "stream",
     "text": [
      "Player(Austin Ekeler, points:22, projected:17)\n",
      "Player(George Kittle, points:17, projected:13)\n",
      "Player(Cooper Kupp, points:30, projected:18)\n",
      "Player(D'Andre Swift, points:23, projected:14)\n",
      "Player(Tyler Boyd, points:13, projected:13)\n",
      "Player(Jamaal Williams, points:14, projected:9)\n",
      "Player(Alexander Mattison, points:23, projected:16)\n"
     ]
    }
   ],
   "source": [
    "for player in last_game:\n",
    "    if player.points > player.projected_points:\n",
    "        print(player)"
   ]
  },
  {
   "cell_type": "code",
   "execution_count": 25,
   "metadata": {},
   "outputs": [
    {
     "name": "stdout",
     "output_type": "stream",
     "text": [
      "Austin Ekeler 5.09\n",
      "George Kittle 3.730000000000002\n",
      "Cooper Kupp 12.14\n",
      "D'Andre Swift 9.059999999999999\n",
      "Tyler Boyd 0.049999999999998934\n",
      "Jamaal Williams 5.299999999999999\n",
      "Alexander Mattison 6.520000000000003\n"
     ]
    }
   ],
   "source": [
    "for player in last_game:\n",
    "    if player.points > player.projected_points:\n",
    "        print(player.name, player.points - player.projected_points)"
   ]
  },
  {
   "cell_type": "code",
   "execution_count": 29,
   "metadata": {},
   "outputs": [
    {
     "name": "stdout",
     "output_type": "stream",
     "text": [
      "[]\n",
      "[('Alexander Mattison', 6.520000000000003)]\n",
      "[('Alexander Mattison', 6.520000000000003)]\n",
      "[('Alexander Mattison', 6.520000000000003)]\n",
      "[('Alexander Mattison', 6.520000000000003), ('Alexander Mattison', 6.520000000000003)]\n",
      "[('Alexander Mattison', 6.520000000000003)]\n",
      "[('Alexander Mattison', 6.520000000000003), ('Alexander Mattison', 6.520000000000003)]\n",
      "[('Alexander Mattison', 6.520000000000003), ('Alexander Mattison', 6.520000000000003)]\n",
      "[('Alexander Mattison', 6.520000000000003), ('Alexander Mattison', 6.520000000000003), ('Alexander Mattison', 6.520000000000003)]\n",
      "[('Alexander Mattison', 6.520000000000003), ('Alexander Mattison', 6.520000000000003)]\n",
      "[('Alexander Mattison', 6.520000000000003), ('Alexander Mattison', 6.520000000000003), ('Alexander Mattison', 6.520000000000003), ('Alexander Mattison', 6.520000000000003)]\n",
      "[('Alexander Mattison', 6.520000000000003), ('Alexander Mattison', 6.520000000000003)]\n",
      "[('Alexander Mattison', 6.520000000000003), ('Alexander Mattison', 6.520000000000003), ('Alexander Mattison', 6.520000000000003), ('Alexander Mattison', 6.520000000000003)]\n",
      "[('Alexander Mattison', 6.520000000000003), ('Alexander Mattison', 6.520000000000003), ('Alexander Mattison', 6.520000000000003)]\n",
      "[('Alexander Mattison', 6.520000000000003), ('Alexander Mattison', 6.520000000000003), ('Alexander Mattison', 6.520000000000003), ('Alexander Mattison', 6.520000000000003)]\n",
      "[('Alexander Mattison', 6.520000000000003), ('Alexander Mattison', 6.520000000000003), ('Alexander Mattison', 6.520000000000003), ('Alexander Mattison', 6.520000000000003)]\n",
      "[('Alexander Mattison', 6.520000000000003), ('Alexander Mattison', 6.520000000000003), ('Alexander Mattison', 6.520000000000003), ('Alexander Mattison', 6.520000000000003), ('Alexander Mattison', 6.520000000000003)]\n",
      "[('Alexander Mattison', 6.520000000000003), ('Alexander Mattison', 6.520000000000003), ('Alexander Mattison', 6.520000000000003), ('Alexander Mattison', 6.520000000000003)]\n",
      "[('Alexander Mattison', 6.520000000000003), ('Alexander Mattison', 6.520000000000003), ('Alexander Mattison', 6.520000000000003), ('Alexander Mattison', 6.520000000000003), ('Alexander Mattison', 6.520000000000003)]\n",
      "[('Alexander Mattison', 6.520000000000003), ('Alexander Mattison', 6.520000000000003), ('Alexander Mattison', 6.520000000000003), ('Alexander Mattison', 6.520000000000003), ('Alexander Mattison', 6.520000000000003)]\n",
      "[('Alexander Mattison', 6.520000000000003), ('Alexander Mattison', 6.520000000000003), ('Alexander Mattison', 6.520000000000003), ('Alexander Mattison', 6.520000000000003), ('Alexander Mattison', 6.520000000000003)]\n",
      "[('Alexander Mattison', 6.520000000000003), ('Alexander Mattison', 6.520000000000003), ('Alexander Mattison', 6.520000000000003), ('Alexander Mattison', 6.520000000000003), ('Alexander Mattison', 6.520000000000003), ('Alexander Mattison', 6.520000000000003)]\n",
      "[('Alexander Mattison', 6.520000000000003), ('Alexander Mattison', 6.520000000000003), ('Alexander Mattison', 6.520000000000003), ('Alexander Mattison', 6.520000000000003), ('Alexander Mattison', 6.520000000000003)]\n",
      "[('Alexander Mattison', 6.520000000000003), ('Alexander Mattison', 6.520000000000003), ('Alexander Mattison', 6.520000000000003), ('Alexander Mattison', 6.520000000000003), ('Alexander Mattison', 6.520000000000003), ('Alexander Mattison', 6.520000000000003), ('Alexander Mattison', 6.520000000000003)]\n",
      "[('Alexander Mattison', 6.520000000000003), ('Alexander Mattison', 6.520000000000003), ('Alexander Mattison', 6.520000000000003), ('Alexander Mattison', 6.520000000000003), ('Alexander Mattison', 6.520000000000003)]\n",
      "[('Alexander Mattison', 6.520000000000003), ('Alexander Mattison', 6.520000000000003), ('Alexander Mattison', 6.520000000000003), ('Alexander Mattison', 6.520000000000003), ('Alexander Mattison', 6.520000000000003), ('Alexander Mattison', 6.520000000000003), ('Alexander Mattison', 6.520000000000003), ('Alexander Mattison', 6.520000000000003)]\n",
      "[('Alexander Mattison', 6.520000000000003), ('Alexander Mattison', 6.520000000000003), ('Alexander Mattison', 6.520000000000003), ('Alexander Mattison', 6.520000000000003), ('Alexander Mattison', 6.520000000000003), ('Alexander Mattison', 6.520000000000003)]\n",
      "[('Alexander Mattison', 6.520000000000003), ('Alexander Mattison', 6.520000000000003), ('Alexander Mattison', 6.520000000000003), ('Alexander Mattison', 6.520000000000003), ('Alexander Mattison', 6.520000000000003), ('Alexander Mattison', 6.520000000000003), ('Alexander Mattison', 6.520000000000003), ('Alexander Mattison', 6.520000000000003)]\n",
      "[('Alexander Mattison', 6.520000000000003), ('Alexander Mattison', 6.520000000000003), ('Alexander Mattison', 6.520000000000003), ('Alexander Mattison', 6.520000000000003), ('Alexander Mattison', 6.520000000000003), ('Alexander Mattison', 6.520000000000003)]\n",
      "[('Alexander Mattison', 6.520000000000003), ('Alexander Mattison', 6.520000000000003), ('Alexander Mattison', 6.520000000000003), ('Alexander Mattison', 6.520000000000003), ('Alexander Mattison', 6.520000000000003), ('Alexander Mattison', 6.520000000000003), ('Alexander Mattison', 6.520000000000003), ('Alexander Mattison', 6.520000000000003), ('Alexander Mattison', 6.520000000000003)]\n",
      "[('Alexander Mattison', 6.520000000000003), ('Alexander Mattison', 6.520000000000003), ('Alexander Mattison', 6.520000000000003), ('Alexander Mattison', 6.520000000000003), ('Alexander Mattison', 6.520000000000003), ('Alexander Mattison', 6.520000000000003), ('Alexander Mattison', 6.520000000000003)]\n",
      "[('Alexander Mattison', 6.520000000000003), ('Alexander Mattison', 6.520000000000003), ('Alexander Mattison', 6.520000000000003), ('Alexander Mattison', 6.520000000000003), ('Alexander Mattison', 6.520000000000003), ('Alexander Mattison', 6.520000000000003), ('Alexander Mattison', 6.520000000000003), ('Alexander Mattison', 6.520000000000003), ('Alexander Mattison', 6.520000000000003)]\n"
     ]
    }
   ],
   "source": [
    "# create a function that displays the name of the biggest \"boom\" and 'bust' of the users team for the week\n",
    "boom = []\n",
    "bust = []\n",
    "\n",
    "diff_total = (player.name, player.points - player.projected_points)\n",
    "\n",
    "for player in last_game:\n",
    "    if player.points > player.projected_points:\n",
    "        boom.append(diff_total)\n",
    "    else: \n",
    "        bust.append(diff_total)\n",
    "    print(boom)\n",
    "    print(bust)"
   ]
  },
  {
   "cell_type": "code",
   "execution_count": null,
   "metadata": {},
   "outputs": [],
   "source": []
  }
 ],
 "metadata": {
  "kernelspec": {
   "display_name": "Python 3",
   "language": "python",
   "name": "python3"
  },
  "language_info": {
   "codemirror_mode": {
    "name": "ipython",
    "version": 3
   },
   "file_extension": ".py",
   "mimetype": "text/x-python",
   "name": "python",
   "nbconvert_exporter": "python",
   "pygments_lexer": "ipython3",
   "version": "3.8.5"
  }
 },
 "nbformat": 4,
 "nbformat_minor": 4
}
