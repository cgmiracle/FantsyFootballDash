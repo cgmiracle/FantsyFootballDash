{
 "cells": [
  {
   "cell_type": "markdown",
   "metadata": {},
   "source": [
    "# This is where I will practice with the existing API and see how I can use it to develop features for the dashboard"
   ]
  },
  {
   "cell_type": "code",
   "execution_count": 1,
   "metadata": {},
   "outputs": [],
   "source": [
    "# Here I will import the API from https://github.com/cwendt94/espn-api\n",
    "from espn_api.football import League\n",
    "\n",
    "league = League(league_id=25088590, year=2021, espn_s2='AEB%2F3xkFFHWUdCoDkI%2BP52fOw7mzztiHmtcrfiew4PkwgVlliih%2FPrq4usD6pt%2BaOQhWYajpm5VI1008hcmPQhEnhmOihc9b5O%2FgvFxCFM2qi16pLcUKEM0ghp65TW8hb4rgQ6GIXtrip5vp26o49%2BCi%2Bc1kBeJ6FPgZ0uawJeRHl18cjYTGEtLfjcefYRLvzXXBeDzkn%2Fg%2BTmpXFFibi%2BBTTcq1%2BjWvOwnjcPGN9z8Ze9ALjqmOpFanHmh1unSrxDY7OYleUpbKCVhn02QzTgnKLmP4Ea2SBu7a9VkIR63K8g%3D%3D', swid='{F5FCF83D-8E47-4FD1-BCF8-3D8E47DFD1B1}')"
   ]
  },
  {
   "cell_type": "code",
   "execution_count": 3,
   "metadata": {},
   "outputs": [
    {
     "data": {
      "text/plain": [
       "[Team(LA TOMCATS),\n",
       " Team(Anaheim  Pigs),\n",
       " Team(TMEC 😎),\n",
       " Team(Buy My OnlyPhins),\n",
       " Team(BUSHWICK BULLIES),\n",
       " Team(SUN CITY GOONS),\n",
       " Team(Boof Nation  imsimplycc ),\n",
       " Team(LV GAMBLERS),\n",
       " Team(TOMPA BRADY),\n",
       " Team(Oaxacan Red Beards)]"
      ]
     },
     "execution_count": 3,
     "metadata": {},
     "output_type": "execute_result"
    }
   ],
   "source": [
    "league.teams"
   ]
  },
  {
   "cell_type": "code",
   "execution_count": 4,
   "metadata": {},
   "outputs": [
    {
     "data": {
      "text/plain": [
       "[Player(Christian McCaffrey),\n",
       " Player(Austin Ekeler),\n",
       " Player(George Kittle),\n",
       " Player(Allen Robinson II),\n",
       " Player(Cooper Kupp),\n",
       " Player(D'Andre Swift),\n",
       " Player(Myles Gaskin),\n",
       " Player(Russell Wilson),\n",
       " Player(Tyler Boyd),\n",
       " Player(Ty'Son Williams),\n",
       " Player(Sterling Shepard),\n",
       " Player(Jamaal Williams),\n",
       " Player(Rondale Moore),\n",
       " Player(Alexander Mattison),\n",
       " Player(Bengals D/ST),\n",
       " Player(Greg Joseph)]"
      ]
     },
     "execution_count": 4,
     "metadata": {},
     "output_type": "execute_result"
    }
   ],
   "source": [
    "team = league.teams[2]\n",
    "team.roster"
   ]
  },
  {
   "cell_type": "code",
   "execution_count": 5,
   "metadata": {},
   "outputs": [
    {
     "data": {
      "text/plain": [
       "'TMEC 😎'"
      ]
     },
     "execution_count": 5,
     "metadata": {},
     "output_type": "execute_result"
    }
   ],
   "source": [
    "team.team_name"
   ]
  },
  {
   "cell_type": "code",
   "execution_count": 6,
   "metadata": {},
   "outputs": [
    {
     "data": {
      "text/plain": [
       "Player(George Kittle)"
      ]
     },
     "execution_count": 6,
     "metadata": {},
     "output_type": "execute_result"
    }
   ],
   "source": [
    "team = league.teams[2]\n",
    "player = team.roster[2]\n",
    "player"
   ]
  },
  {
   "cell_type": "code",
   "execution_count": 7,
   "metadata": {},
   "outputs": [
    {
     "data": {
      "text/plain": [
       "3040151"
      ]
     },
     "execution_count": 7,
     "metadata": {},
     "output_type": "execute_result"
    }
   ],
   "source": [
    "player.playerId"
   ]
  },
  {
   "cell_type": "code",
   "execution_count": 8,
   "metadata": {},
   "outputs": [
    {
     "data": {
      "text/plain": [
       "6"
      ]
     },
     "execution_count": 8,
     "metadata": {},
     "output_type": "execute_result"
    }
   ],
   "source": [
    "player.posRank"
   ]
  },
  {
   "cell_type": "code",
   "execution_count": 9,
   "metadata": {},
   "outputs": [
    {
     "data": {
      "text/plain": [
       "'TE'"
      ]
     },
     "execution_count": 9,
     "metadata": {},
     "output_type": "execute_result"
    }
   ],
   "source": [
    "player.position"
   ]
  },
  {
   "cell_type": "code",
   "execution_count": 10,
   "metadata": {},
   "outputs": [
    {
     "data": {
      "text/plain": [
       "'SF'"
      ]
     },
     "execution_count": 10,
     "metadata": {},
     "output_type": "execute_result"
    }
   ],
   "source": [
    "player.proTeam"
   ]
  },
  {
   "cell_type": "code",
   "execution_count": 11,
   "metadata": {},
   "outputs": [
    {
     "data": {
      "text/plain": [
       "['WR/TE', 'TE', 'RB/WR/TE', 'OP', 'BE', 'IR']"
      ]
     },
     "execution_count": 11,
     "metadata": {},
     "output_type": "execute_result"
    }
   ],
   "source": [
    "player.eligibleSlots"
   ]
  },
  {
   "cell_type": "code",
   "execution_count": 12,
   "metadata": {},
   "outputs": [
    {
     "data": {
      "text/plain": [
       "'DRAFT'"
      ]
     },
     "execution_count": 12,
     "metadata": {},
     "output_type": "execute_result"
    }
   ],
   "source": [
    "player.acquisitionType"
   ]
  },
  {
   "cell_type": "code",
   "execution_count": 13,
   "metadata": {},
   "outputs": [
    {
     "data": {
      "text/plain": [
       "[Player(Michael Gallup, points:0, projected:0),\n",
       " Player(Curtis Samuel, points:5, projected:9),\n",
       " Player(Marquez Callaway, points:9, projected:10),\n",
       " Player(Emmanuel Sanders, points:13, projected:11),\n",
       " Player(Darnell Mooney, points:18, projected:10)]"
      ]
     },
     "execution_count": 13,
     "metadata": {},
     "output_type": "execute_result"
    }
   ],
   "source": [
    "league.free_agents(size=5, position='WR')"
   ]
  },
  {
   "cell_type": "code",
   "execution_count": 14,
   "metadata": {},
   "outputs": [
    {
     "data": {
      "text/plain": [
       "[('22.15', Team(Anaheim  Pigs)),\n",
       " ('21.60', Team(TMEC 😎)),\n",
       " ('20.20', Team(Buy My OnlyPhins)),\n",
       " ('15.50', Team(Boof Nation  imsimplycc )),\n",
       " ('15.35', Team(BUSHWICK BULLIES)),\n",
       " ('15.35', Team(LV GAMBLERS)),\n",
       " ('14.50', Team(TOMPA BRADY)),\n",
       " ('12.85', Team(SUN CITY GOONS)),\n",
       " ('12.65', Team(LA TOMCATS)),\n",
       " ('11.65', Team(Oaxacan Red Beards))]"
      ]
     },
     "execution_count": 14,
     "metadata": {},
     "output_type": "execute_result"
    }
   ],
   "source": [
    "league.power_rankings(week=4)"
   ]
  },
  {
   "cell_type": "code",
   "execution_count": 15,
   "metadata": {},
   "outputs": [
    {
     "data": {
      "text/plain": [
       "25"
      ]
     },
     "execution_count": 15,
     "metadata": {},
     "output_type": "execute_result"
    }
   ],
   "source": [
    "activity = league.recent_activity()\n",
    "len(activity)"
   ]
  },
  {
   "cell_type": "code",
   "execution_count": 16,
   "metadata": {},
   "outputs": [
    {
     "data": {
      "text/plain": [
       "[(Team(TOMPA BRADY), 'DROPPED', Player(Phillip Lindsay), 0),\n",
       " (Team(TOMPA BRADY), 'FA ADDED', Player(Christian Kirk), 0)]"
      ]
     },
     "execution_count": 16,
     "metadata": {},
     "output_type": "execute_result"
    }
   ],
   "source": [
    "activity[0].actions"
   ]
  },
  {
   "cell_type": "code",
   "execution_count": 17,
   "metadata": {},
   "outputs": [
    {
     "name": "stdout",
     "output_type": "stream",
     "text": [
      "(Team(LA TOMCATS), 'DROPPED', Player(Jack Doyle), 0)\n",
      "(Team(LA TOMCATS), 'FA ADDED', Player(Titans D/ST), 0)\n"
     ]
    }
   ],
   "source": [
    "for action in activity[5].actions:\n",
    "    print(action)"
   ]
  },
  {
   "cell_type": "code",
   "execution_count": null,
   "metadata": {},
   "outputs": [],
   "source": []
  }
 ],
 "metadata": {
  "kernelspec": {
   "display_name": "Python 3",
   "language": "python",
   "name": "python3"
  },
  "language_info": {
   "codemirror_mode": {
    "name": "ipython",
    "version": 3
   },
   "file_extension": ".py",
   "mimetype": "text/x-python",
   "name": "python",
   "nbconvert_exporter": "python",
   "pygments_lexer": "ipython3",
   "version": "3.8.5"
  }
 },
 "nbformat": 4,
 "nbformat_minor": 4
}
